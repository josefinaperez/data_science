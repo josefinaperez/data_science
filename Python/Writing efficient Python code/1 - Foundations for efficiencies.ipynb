{
 "cells": [
  {
   "cell_type": "markdown",
   "id": "1933bc64-fe39-4f17-aab0-6375280a1a5f",
   "metadata": {},
   "source": [
    "# Foundations for efficiencies\n",
    "\n",
    "¿Qué es código eficiente?\n",
    "\n",
    "- Se ejecuta rápido y tiene poca latencia entre la ejecución y la devolución del resultado\n",
    "- Consume los recursos eficientemente\n",
    "\n",
    "¿Qué es Pythonic?\n",
    "\n",
    "- Se enfoca en la legibilidad\n",
    "- Sigue las buenas prácticas y principios de Python.\n",
    "\n",
    "Aunque python soporte código que no sigue esas prácticas, tiende a correr más lento."
   ]
  },
  {
   "cell_type": "code",
   "execution_count": 1,
   "id": "069bb456-f017-4a1e-91fa-0d9106415934",
   "metadata": {},
   "outputs": [
    {
     "name": "stdout",
     "output_type": "stream",
     "text": [
      "CPU times: user 5 µs, sys: 0 ns, total: 5 µs\n",
      "Wall time: 6.91 µs\n"
     ]
    }
   ],
   "source": [
    "numbers = [1,2,3]\n",
    "\n",
    "# Non pythonic\n",
    "doubled_numbers = []\n",
    "\n",
    "for i in range(len(numbers)):\n",
    "    doubled_numbers.append(numbers[i] * 2)"
   ]
  },
  {
   "cell_type": "code",
   "execution_count": 2,
   "id": "43c14ef6-07f4-4486-bb23-fe0c23d7a657",
   "metadata": {},
   "outputs": [
    {
     "name": "stdout",
     "output_type": "stream",
     "text": [
      "CPU times: user 7 µs, sys: 1 µs, total: 8 µs\n",
      "Wall time: 10 µs\n"
     ]
    }
   ],
   "source": [
    "#Pythonic\n",
    "doubled_numbers = [x * 2 for x in numbers]"
   ]
  },
  {
   "cell_type": "code",
   "execution_count": 3,
   "id": "cc679c43-0de8-41fd-aa33-445222772e8f",
   "metadata": {},
   "outputs": [
    {
     "name": "stdout",
     "output_type": "stream",
     "text": [
      "The Zen of Python, by Tim Peters\n",
      "\n",
      "Beautiful is better than ugly.\n",
      "Explicit is better than implicit.\n",
      "Simple is better than complex.\n",
      "Complex is better than complicated.\n",
      "Flat is better than nested.\n",
      "Sparse is better than dense.\n",
      "Readability counts.\n",
      "Special cases aren't special enough to break the rules.\n",
      "Although practicality beats purity.\n",
      "Errors should never pass silently.\n",
      "Unless explicitly silenced.\n",
      "In the face of ambiguity, refuse the temptation to guess.\n",
      "There should be one-- and preferably only one --obvious way to do it.\n",
      "Although that way may not be obvious at first unless you're Dutch.\n",
      "Now is better than never.\n",
      "Although never is often better than *right* now.\n",
      "If the implementation is hard to explain, it's a bad idea.\n",
      "If the implementation is easy to explain, it may be a good idea.\n",
      "Namespaces are one honking great idea -- let's do more of those!\n"
     ]
    }
   ],
   "source": [
    "import this"
   ]
  },
  {
   "cell_type": "markdown",
   "id": "a5108313-c3db-47ba-9a92-5e0f74294dcf",
   "metadata": {},
   "source": [
    "## A taste of things to come\n",
    "\n",
    "Suppose you wanted to collect the names in the above list that have six letters or more. In other programming languages, the typical approach is to create an index variable (i), use i to iterate over the list, and use an if statement to collect the names with six letters or more:"
   ]
  },
  {
   "cell_type": "code",
   "execution_count": 4,
   "id": "0c7efef6-9ac5-4b9d-9c65-11611f2b3e87",
   "metadata": {},
   "outputs": [
    {
     "name": "stdout",
     "output_type": "stream",
     "text": [
      "['Kramer', 'Elaine', 'George', 'Newman']\n"
     ]
    }
   ],
   "source": [
    "# Print the list created using the Non-Pythonic approach\n",
    "names = ['Jerry', 'Kramer', 'Elaine', 'George', 'Newman']\n",
    "\n",
    "i = 0\n",
    "new_list= []\n",
    "while i < len(names):\n",
    "    if len(names[i]) >= 6:\n",
    "        new_list.append(names[i])\n",
    "    i += 1\n",
    "print(new_list)"
   ]
  },
  {
   "cell_type": "markdown",
   "id": "91d6aa4e-9b29-4948-bfa7-8f625911da5c",
   "metadata": {},
   "source": [
    "A more Pythonic approach would loop over the contents of names, rather than using an index variable"
   ]
  },
  {
   "cell_type": "code",
   "execution_count": 6,
   "id": "a4cf295d-fee3-4179-a03b-48c4e0b34a66",
   "metadata": {},
   "outputs": [
    {
     "name": "stdout",
     "output_type": "stream",
     "text": [
      "['Kramer', 'Elaine', 'George', 'Newman']\n"
     ]
    }
   ],
   "source": [
    "better_list = []\n",
    "for name in names:\n",
    "    if len(name) >= 6:\n",
    "        better_list.append(name)\n",
    "print(better_list)"
   ]
  },
  {
   "cell_type": "markdown",
   "id": "828236ee-2ef3-4a55-9327-65daa2235f24",
   "metadata": {},
   "source": [
    "The best Pythonic way of doing this is by using list comprehension."
   ]
  },
  {
   "cell_type": "code",
   "execution_count": 8,
   "id": "475aba83-2f58-47fa-8274-2291b5d3ff7a",
   "metadata": {},
   "outputs": [
    {
     "name": "stdout",
     "output_type": "stream",
     "text": [
      "['Kramer', 'Elaine', 'George', 'Newman']\n"
     ]
    }
   ],
   "source": [
    "best_list = [name for name in names if len(name) >= 6]\n",
    "print(best_list)"
   ]
  },
  {
   "cell_type": "markdown",
   "id": "a673c5ec-a1ec-4ee7-a7b0-3e0a57c325b0",
   "metadata": {},
   "source": [
    "## Building with built-ins\n",
    "\n",
    "Python standart library: parte de cualquier instalación de Python.\n",
    "\n",
    "- Built in types: list, tuples, set, dict, etc.\n",
    "- Built in functions: print, len, range, round, enumerate, map, zip, etc.\n",
    "- Built in modules: os, sys, itertools, collections, math, etc.\n",
    "\n",
    "range(): para crear una secuencia de números. Le damos un inicio y un fin (exclusivo).\n",
    "Devuelve un objeto range, para tenerlos en una lista hay que convertirlo."
   ]
  },
  {
   "cell_type": "code",
   "execution_count": 12,
   "id": "d4c96bb1-1ae4-40d8-bca9-93602c1f7588",
   "metadata": {},
   "outputs": [
    {
     "name": "stdout",
     "output_type": "stream",
     "text": [
      "[0, 1, 2, 3, 4, 5, 6, 7, 8, 9]\n"
     ]
    }
   ],
   "source": [
    "nums = range(0,10)\n",
    "nums_list = list(nums)\n",
    "print(nums_list)"
   ]
  },
  {
   "cell_type": "markdown",
   "id": "fc0e2c9a-098a-4ccb-b841-3af87c2285bd",
   "metadata": {},
   "source": [
    "Si no le ponés inicio arranca en 0."
   ]
  },
  {
   "cell_type": "code",
   "execution_count": 13,
   "id": "f242e675-13df-4c48-bcd2-502c901e8e94",
   "metadata": {},
   "outputs": [
    {
     "name": "stdout",
     "output_type": "stream",
     "text": [
      "[0, 1, 2, 3, 4, 5, 6, 7, 8, 9]\n"
     ]
    }
   ],
   "source": [
    "nums = range(10)\n",
    "nums_list = list(nums)\n",
    "print(nums_list)"
   ]
  },
  {
   "cell_type": "markdown",
   "id": "209e6e53-26b8-43ea-adea-67349f3574b2",
   "metadata": {},
   "source": [
    "También acepta un parámetro de step"
   ]
  },
  {
   "cell_type": "code",
   "execution_count": 15,
   "id": "5282b419-7b90-438d-a6cd-011c9dda3612",
   "metadata": {},
   "outputs": [
    {
     "name": "stdout",
     "output_type": "stream",
     "text": [
      "[2, 4, 6, 8, 10]\n"
     ]
    }
   ],
   "source": [
    "even_numbers = range(2, 11, 2)\n",
    "print(list(even_numbers))"
   ]
  },
  {
   "cell_type": "markdown",
   "id": "bf59d861-c08e-45cf-adaf-f332428be940",
   "metadata": {},
   "source": [
    "enumerate(): crea un par índice valor para cada item en el objeto que le pases.\n",
    "Devuelve un objeto así que hay que pasarlo a lista."
   ]
  },
  {
   "cell_type": "code",
   "execution_count": 16,
   "id": "528fc1ee-c1ce-48bd-b337-12d544a15965",
   "metadata": {},
   "outputs": [
    {
     "name": "stdout",
     "output_type": "stream",
     "text": [
      "[(0, 'a'), (1, 'b'), (2, 'c')]\n"
     ]
    }
   ],
   "source": [
    "letters = ['a', 'b', 'c']\n",
    "indexed_letters = enumerate(letters)\n",
    "print(list(indexed_letters))"
   ]
  },
  {
   "cell_type": "markdown",
   "id": "c25d2040-74f3-4509-822a-cace924f4b4e",
   "metadata": {},
   "source": [
    "También se le puede decir un start"
   ]
  },
  {
   "cell_type": "code",
   "execution_count": 17,
   "id": "351463e0-285f-407d-960a-0a1ef1748ce5",
   "metadata": {},
   "outputs": [
    {
     "name": "stdout",
     "output_type": "stream",
     "text": [
      "[(3, 'a'), (4, 'b'), (5, 'c')]\n"
     ]
    }
   ],
   "source": [
    "letters = ['a', 'b', 'c']\n",
    "indexed_letters = enumerate(letters,start=3)\n",
    "print(list(indexed_letters))"
   ]
  },
  {
   "cell_type": "markdown",
   "id": "418cc484-586a-4c2d-94ac-2dc0ccd818c5",
   "metadata": {},
   "source": [
    "map(): aplica una función a todos los elementos del objeto que le pases. Se le pasa la función y el objeto. Devuelve un objeto y lo convierto a lista."
   ]
  },
  {
   "cell_type": "code",
   "execution_count": 19,
   "id": "249c7e83-4c24-4993-bf90-a1f665332b83",
   "metadata": {},
   "outputs": [
    {
     "data": {
      "text/plain": [
       "[1, 4]"
      ]
     },
     "execution_count": 19,
     "metadata": {},
     "output_type": "execute_result"
    }
   ],
   "source": [
    "nums = [1.3,4.5]\n",
    "list(map(round, nums))"
   ]
  },
  {
   "cell_type": "markdown",
   "id": "f146bb8c-060e-419f-a1be-2246278a8ad9",
   "metadata": {},
   "source": [
    "Map con lambda:"
   ]
  },
  {
   "cell_type": "code",
   "execution_count": 20,
   "id": "b167b2ac-bf16-49d5-8bad-532e665182f1",
   "metadata": {},
   "outputs": [
    {
     "data": {
      "text/plain": [
       "[1, 4, 9]"
      ]
     },
     "execution_count": 20,
     "metadata": {},
     "output_type": "execute_result"
    }
   ],
   "source": [
    "nums = [1,2,3]\n",
    "list(map(lambda x: x**2, nums))"
   ]
  },
  {
   "cell_type": "markdown",
   "id": "6a4fecb0-9209-43a2-87d7-f99b99c05bf4",
   "metadata": {},
   "source": [
    "## Built-in practice: range()"
   ]
  },
  {
   "cell_type": "code",
   "execution_count": 21,
   "id": "d12f5084-9758-41be-862a-deb7a7ef4f28",
   "metadata": {},
   "outputs": [
    {
     "data": {
      "text/plain": [
       "[1, 3, 5, 7, 9, 11]"
      ]
     },
     "execution_count": 21,
     "metadata": {},
     "output_type": "execute_result"
    }
   ],
   "source": [
    "# Create a range object that goes from 0 to 5\n",
    "nums = range(6)\n",
    "print(type(nums))\n",
    "\n",
    "# Convert nums to a list\n",
    "nums_list = list(nums)\n",
    "print(nums_list)\n",
    "\n",
    "# Create a new list of odd numbers from 1 to 11 by unpacking a range object\n",
    "nums_list2 = [*range(1,12,2)]\n",
    "print(nums_list2)"
   ]
  },
  {
   "cell_type": "markdown",
   "id": "23793c2f-4a41-4367-bca2-1393b353428a",
   "metadata": {},
   "source": [
    "## Built-in practice: enumerate()"
   ]
  },
  {
   "cell_type": "code",
   "execution_count": 22,
   "id": "d232fbfb-49c6-46c6-a76c-729ffdba9e2e",
   "metadata": {},
   "outputs": [
    {
     "name": "stdout",
     "output_type": "stream",
     "text": [
      "[(0, 'Jerry'), (1, 'Kramer'), (2, 'Elaine'), (3, 'George'), (4, 'Newman')]\n",
      "[(0, 'Jerry'), (1, 'Kramer'), (2, 'Elaine'), (3, 'George'), (4, 'Newman')]\n",
      "[(1, 'Jerry'), (2, 'Kramer'), (3, 'Elaine'), (4, 'George'), (5, 'Newman')]\n"
     ]
    }
   ],
   "source": [
    "names = ['Jerry', 'Kramer', 'Elaine', 'George', 'Newman']\n",
    "# Rewrite the for loop to use enumerate\n",
    "indexed_names = []\n",
    "for i,name in enumerate(names):\n",
    "    index_name = (i,name)\n",
    "    indexed_names.append(index_name) \n",
    "print(indexed_names)\n",
    "\n",
    "# Rewrite the above for loop using list comprehension\n",
    "indexed_names_comp = [(i,name) for i, name in enumerate(names)]\n",
    "print(indexed_names_comp)\n",
    "\n",
    "# Unpack an enumerate object with a starting index of one\n",
    "indexed_names_unpack = [*enumerate(names,start=1)]\n",
    "print(indexed_names_unpack)"
   ]
  },
  {
   "cell_type": "markdown",
   "id": "df00ee30-f622-44cb-84ca-dd1af96fe643",
   "metadata": {},
   "source": [
    "## Built-in practice: map()"
   ]
  },
  {
   "cell_type": "code",
   "execution_count": 23,
   "id": "c7a53864-ac36-41d8-9c0a-4760e260bc61",
   "metadata": {},
   "outputs": [
    {
     "name": "stdout",
     "output_type": "stream",
     "text": [
      "<class 'map'>\n",
      "['JERRY', 'KRAMER', 'ELAINE', 'GEORGE', 'NEWMAN']\n"
     ]
    }
   ],
   "source": [
    "# Use map to apply str.upper to each element in names\n",
    "names_map  = map(str.upper, names)\n",
    "\n",
    "# Print the type of the names_map\n",
    "print(type(names_map))\n",
    "\n",
    "# Unpack names_map into a list\n",
    "names_uppercase = [*names_map]\n",
    "\n",
    "# Print the list created above\n",
    "print(names_uppercase)"
   ]
  },
  {
   "cell_type": "markdown",
   "id": "af8105e6-83aa-4b9c-9a48-b1f035cde9ab",
   "metadata": {},
   "source": [
    "## The power of NumPy arrays\n",
    "\n",
    "Alternativa más rápida y eficiente a las listas de Python. Para crear uno:"
   ]
  },
  {
   "cell_type": "code",
   "execution_count": 24,
   "id": "8a67738b-599b-45b9-b775-f453910f9de7",
   "metadata": {},
   "outputs": [
    {
     "data": {
      "text/plain": [
       "array([0, 1, 2, 3, 4])"
      ]
     },
     "execution_count": 24,
     "metadata": {},
     "output_type": "execute_result"
    }
   ],
   "source": [
    "import numpy as np\n",
    "np_array = np.array(range(5))\n",
    "np_array"
   ]
  },
  {
   "cell_type": "markdown",
   "id": "379653ba-8fda-44b0-865a-52cc64fcf2aa",
   "metadata": {},
   "source": [
    " - Son homogéneos: todos los elementos son del mismo tipo. Esto hace que no se tenga que chequear el tipo entonces sea más rápido. Para ver el tipo:"
   ]
  },
  {
   "cell_type": "code",
   "execution_count": 25,
   "id": "b213cc23-d141-4041-bba3-c7f327283caa",
   "metadata": {},
   "outputs": [
    {
     "data": {
      "text/plain": [
       "dtype('int64')"
      ]
     },
     "execution_count": 25,
     "metadata": {},
     "output_type": "execute_result"
    }
   ],
   "source": [
    "np_array.dtype"
   ]
  },
  {
   "cell_type": "code",
   "execution_count": 27,
   "id": "5693515d-0063-480e-bf5a-8c18f78282f6",
   "metadata": {},
   "outputs": [
    {
     "data": {
      "text/plain": [
       "array([1. , 2.5])"
      ]
     },
     "execution_count": 27,
     "metadata": {},
     "output_type": "execute_result"
    }
   ],
   "source": [
    "np_array_floats = np.array([1, 2.5])\n",
    "np_array_floats"
   ]
  },
  {
   "cell_type": "markdown",
   "id": "5d5145fc-d089-4bc4-88f4-7bb435ee16cf",
   "metadata": {},
   "source": [
    "El integer se convirtió a float.\n",
    "\n",
    "- También soportan broadcasting: puedo aplicarle una operación a un array entero, que en listas de Python no se puede:\n"
   ]
  },
  {
   "cell_type": "code",
   "execution_count": 29,
   "id": "b103a3de-2cbf-4760-aa3b-507893e25e4c",
   "metadata": {},
   "outputs": [
    {
     "ename": "TypeError",
     "evalue": "unsupported operand type(s) for ** or pow(): 'list' and 'int'",
     "output_type": "error",
     "traceback": [
      "\u001b[0;31m---------------------------------------------------------------------------\u001b[0m",
      "\u001b[0;31mTypeError\u001b[0m                                 Traceback (most recent call last)",
      "\u001b[0;32m<ipython-input-29-c769f8fe6255>\u001b[0m in \u001b[0;36m<module>\u001b[0;34m\u001b[0m\n\u001b[0;32m----> 1\u001b[0;31m \u001b[0;34m[\u001b[0m\u001b[0;36m1\u001b[0m\u001b[0;34m,\u001b[0m\u001b[0;36m2\u001b[0m\u001b[0;34m,\u001b[0m\u001b[0;36m3\u001b[0m\u001b[0;34m]\u001b[0m \u001b[0;34m**\u001b[0m \u001b[0;36m2\u001b[0m\u001b[0;34m\u001b[0m\u001b[0;34m\u001b[0m\u001b[0m\n\u001b[0m",
      "\u001b[0;31mTypeError\u001b[0m: unsupported operand type(s) for ** or pow(): 'list' and 'int'"
     ]
    }
   ],
   "source": [
    "[1,2,3] ** 2"
   ]
  },
  {
   "cell_type": "markdown",
   "id": "61fa1de4-d109-4089-9a12-760de32d616c",
   "metadata": {},
   "source": [
    "Podríamos hacerlo en un for o con list comprehension, pero no son las formas más eficientes de hacerlo.\n",
    "Numpy arrays vectorizan las operaciones entonces las aplica a todo el array a la vez."
   ]
  },
  {
   "cell_type": "code",
   "execution_count": 30,
   "id": "c035f469-88a3-4028-a8ac-fba065ca8f2a",
   "metadata": {},
   "outputs": [
    {
     "data": {
      "text/plain": [
       "array([ 0,  1,  4,  9, 16])"
      ]
     },
     "execution_count": 30,
     "metadata": {},
     "output_type": "execute_result"
    }
   ],
   "source": [
    "np_array ** 2"
   ]
  },
  {
   "cell_type": "markdown",
   "id": "6d70f67b-a93d-403b-8b44-fbc93b82cad3",
   "metadata": {},
   "source": [
    "Otra ventaja son los índices. En un arreglo de 1 dimensión es igual que una lista:\n"
   ]
  },
  {
   "cell_type": "code",
   "execution_count": 33,
   "id": "6155b33b-9afd-4b1a-8009-03dc849f4abe",
   "metadata": {},
   "outputs": [
    {
     "name": "stdout",
     "output_type": "stream",
     "text": [
      "1\n",
      "[1 2]\n",
      "2\n",
      "[2, 3]\n"
     ]
    }
   ],
   "source": [
    "print(np_array[1])\n",
    "print(np_array[1:3])\n",
    "print([1,2,3][1])\n",
    "print([1,2,3][1:3])"
   ]
  },
  {
   "cell_type": "markdown",
   "id": "baca86bf-fde3-4591-8173-781cc9e99304",
   "metadata": {},
   "source": [
    "Pero cuando hay más dimensiones es más fácil de escribir:"
   ]
  },
  {
   "cell_type": "code",
   "execution_count": 38,
   "id": "84afd569-376d-427d-b64f-8d77513d0b01",
   "metadata": {},
   "outputs": [
    {
     "name": "stdout",
     "output_type": "stream",
     "text": [
      "2\n",
      "[1, 4]\n",
      "2\n",
      "[1 4]\n"
     ]
    }
   ],
   "source": [
    "#List\n",
    "nums_2 = [[1,2,3], [4,5,6]]\n",
    "print(nums_2[0][1])\n",
    "#Primer elemento de cada fila\n",
    "print([row[0] for row in nums_2])\n",
    "\n",
    "#Array\n",
    "array_2 = np.array(nums_2)\n",
    "print(array_2[0,1])\n",
    "#Primer elemento de cada fila\n",
    "print(array_2[:,0])"
   ]
  },
  {
   "cell_type": "markdown",
   "id": "6f4a46e4-e05a-47e9-9ab6-63e0b881d05b",
   "metadata": {},
   "source": [
    "También tiene boolean indexing."
   ]
  },
  {
   "cell_type": "code",
   "execution_count": 40,
   "id": "0a1ee177-0fcf-4ce2-844c-1ae7ac71d796",
   "metadata": {},
   "outputs": [
    {
     "data": {
      "text/plain": [
       "array([1, 6])"
      ]
     },
     "execution_count": 40,
     "metadata": {},
     "output_type": "execute_result"
    }
   ],
   "source": [
    "numbers = np.array([1,2-4,-5,6])\n",
    "numbers[numbers > 0]"
   ]
  },
  {
   "cell_type": "markdown",
   "id": "7b5d6830-a540-4bad-86bd-a207949ce644",
   "metadata": {},
   "source": [
    "Para hacerlo con una lista necesitarías un for o una list comprehension"
   ]
  },
  {
   "cell_type": "code",
   "execution_count": 41,
   "id": "59923a60-63e1-4e87-a5ad-910d0e641d63",
   "metadata": {},
   "outputs": [
    {
     "data": {
      "text/plain": [
       "[1, 6]"
      ]
     },
     "execution_count": 41,
     "metadata": {},
     "output_type": "execute_result"
    }
   ],
   "source": [
    "numbers_list = [1,2-4,-5,6]\n",
    "[n for n in numbers_list if n > 0]"
   ]
  },
  {
   "cell_type": "markdown",
   "id": "c9d0797c-59be-4c19-8cdb-98d4f0a3e1cc",
   "metadata": {},
   "source": [
    "## Practice with NumPy arrays"
   ]
  },
  {
   "cell_type": "code",
   "execution_count": 43,
   "id": "b13e86ff-18a8-402d-ae62-6559508a3cb4",
   "metadata": {},
   "outputs": [],
   "source": [
    "nums = np.array([[ 1, 2,3,  4,  5],\n",
    " [ 6,  7,  8,  9, 10]])\n",
    "\n",
    "# Print second row of nums\n",
    "print(nums[1])\n",
    "\n",
    "# Print all elements of nums that are greater than six\n",
    "print(nums[nums > 6])\n",
    "\n",
    "# Double every element of nums\n",
    "nums_dbl = nums * 2\n",
    "print(nums_dbl)\n",
    "\n",
    "# Replace the third column of nums\n",
    "nums[:,2] = nums[:,2] + 1\n",
    "print(nums)"
   ]
  },
  {
   "cell_type": "markdown",
   "id": "1e2c5c28-2ed2-4711-8a29-9c515eb93ca6",
   "metadata": {},
   "source": [
    "## Bringing it all together: Festivus!"
   ]
  },
  {
   "cell_type": "code",
   "execution_count": null,
   "id": "486af6d2-93b6-410e-a4a8-1a3ac6e70176",
   "metadata": {},
   "outputs": [],
   "source": [
    "# Create a list of arrival times\n",
    "arrival_times = [*range(10,60,10)]\n",
    "\n",
    "# Convert arrival_times to an array and update the times\n",
    "arrival_times_np = np.array(arrival_times)\n",
    "new_times = arrival_times_np - 3\n",
    "\n",
    "# Use list comprehension and enumerate to pair guests to new times\n",
    "guest_arrivals = [(names[i],time) for i,time in enumerate(new_times)]\n",
    "\n",
    "# Map the welcome_guest function to each (guest,time) pair\n",
    "welcome_map = map(welcome_guest, guest_arrivals)\n",
    "\n",
    "guest_welcomes = [*welcome_map]\n",
    "print(*guest_welcomes, sep='\\n')"
   ]
  }
 ],
 "metadata": {
  "kernelspec": {
   "display_name": "Python 3",
   "language": "python",
   "name": "python3"
  },
  "language_info": {
   "codemirror_mode": {
    "name": "ipython",
    "version": 3
   },
   "file_extension": ".py",
   "mimetype": "text/x-python",
   "name": "python",
   "nbconvert_exporter": "python",
   "pygments_lexer": "ipython3",
   "version": "3.8.8"
  }
 },
 "nbformat": 4,
 "nbformat_minor": 5
}
