{
 "cells": [
  {
   "cell_type": "markdown",
   "id": "717df9c6-ee3f-49ad-8b5f-a4f30787b50a",
   "metadata": {},
   "source": [
    "# Timing and profiling code\n",
    "\n",
    "Comparar runtimes de 2 códigos que hacen lo mismo para ver cuál es más eficiente y rápido."
   ]
  },
  {
   "cell_type": "code",
   "execution_count": 1,
   "id": "d4c59300-e020-466b-be62-23ce4cb84ee0",
   "metadata": {},
   "outputs": [
    {
     "name": "stdout",
     "output_type": "stream",
     "text": [
      "6.71 µs ± 140 ns per loop (mean ± std. dev. of 7 runs, 100000 loops each)\n"
     ]
    }
   ],
   "source": [
    "import numpy as np\n",
    "\n",
    "%timeit rand_nums = np.random.rand(1000)"
   ]
  },
  {
   "cell_type": "markdown",
   "id": "705f67ff-18c6-49fa-89b9-426f226866e1",
   "metadata": {},
   "source": [
    "%timeit te da un promedio y sd del tiempo que tarda, corre el código varias veces.\n",
    "\n",
    "Se puede decirle el nro de runs y el de loops con -r y -n:"
   ]
  },
  {
   "cell_type": "code",
   "execution_count": 2,
   "id": "f0bbd0b3-449b-400e-ac79-6ce1f60e9d09",
   "metadata": {},
   "outputs": [
    {
     "name": "stdout",
     "output_type": "stream",
     "text": [
      "The slowest run took 11.28 times longer than the fastest. This could mean that an intermediate result is being cached.\n",
      "78.8 µs ± 65.9 µs per loop (mean ± std. dev. of 2 runs, 10 loops each)\n"
     ]
    }
   ],
   "source": [
    "%timeit -r2 -n10 rand_nums = np.random.rand(1000)"
   ]
  },
  {
   "cell_type": "markdown",
   "id": "a34c7560-a6d9-4e8d-a853-a8af759c4b34",
   "metadata": {},
   "source": [
    "Si le pongo un % lo hace para esa línea, si pongo %% lo hace para múltiples líneas."
   ]
  },
  {
   "cell_type": "code",
   "execution_count": 3,
   "id": "c385d20e-595b-400a-8f68-75a4fc550cb0",
   "metadata": {},
   "outputs": [
    {
     "name": "stdout",
     "output_type": "stream",
     "text": [
      "700 ns ± 9.39 ns per loop (mean ± std. dev. of 7 runs, 1000000 loops each)\n"
     ]
    }
   ],
   "source": [
    "%%timeit\n",
    "\n",
    "nums = []\n",
    "for x in range(10):\n",
    "    nums.append(x)"
   ]
  },
  {
   "cell_type": "markdown",
   "id": "fc12f369-614e-4294-acad-d6028dfe51ae",
   "metadata": {},
   "source": [
    "Se puede guardar el resultado de timeit en una variable con -o"
   ]
  },
  {
   "cell_type": "code",
   "execution_count": 4,
   "id": "ca6e0c80-e3f2-401b-8cc8-85d5549c7ff5",
   "metadata": {},
   "outputs": [
    {
     "name": "stdout",
     "output_type": "stream",
     "text": [
      "6.72 µs ± 126 ns per loop (mean ± std. dev. of 7 runs, 100000 loops each)\n"
     ]
    }
   ],
   "source": [
    "times = %timeit -o rand_nums = np.random.rand(1000)"
   ]
  },
  {
   "cell_type": "markdown",
   "id": "ac5327ee-0fca-4ae7-ab36-f1856205aaac",
   "metadata": {},
   "source": [
    "Así podemos ver más cosas como todos los tiempos de cada run, el mejor y el peor:"
   ]
  },
  {
   "cell_type": "code",
   "execution_count": 6,
   "id": "32b03e5c-ca8e-446b-b3d1-1c311dfe71ea",
   "metadata": {},
   "outputs": [
    {
     "name": "stdout",
     "output_type": "stream",
     "text": [
      "[6.582358279999881e-06, 6.601939330000732e-06, 6.5855490100000224e-06, 6.799854540000752e-06, 6.921764710000388e-06, 6.835268879999603e-06, 6.739552299999332e-06]\n",
      "El mejor tiempo: 6.582358279999881e-06\n",
      "El peor tiempo: 6.921764710000388e-06\n"
     ]
    }
   ],
   "source": [
    "print(times.timings)\n",
    "print(f'El mejor tiempo: {times.best}')\n",
    "print(f'El peor tiempo: {times.worst}')"
   ]
  },
  {
   "cell_type": "markdown",
   "id": "068e4832-7626-4fdd-a326-8c032ba28bb7",
   "metadata": {},
   "source": [
    "Comparo el tiempo que se tarda en crear un diccionario con el formal name o con literal syntax:"
   ]
  },
  {
   "cell_type": "code",
   "execution_count": 7,
   "id": "0e94a278-3d94-421d-950c-8afc6ceef0d4",
   "metadata": {},
   "outputs": [
    {
     "name": "stdout",
     "output_type": "stream",
     "text": [
      "79.8 ns ± 0.818 ns per loop (mean ± std. dev. of 7 runs, 10000000 loops each)\n",
      "22.4 ns ± 0.574 ns per loop (mean ± std. dev. of 7 runs, 10000000 loops each)\n"
     ]
    }
   ],
   "source": [
    "f_time = %timeit -o formal_dict = dict()\n",
    "l_time = %timeit -o literal_dict = {}"
   ]
  },
  {
   "cell_type": "markdown",
   "id": "e4adef9b-1a8c-4117-95ef-b656f0656598",
   "metadata": {},
   "source": [
    "## Using %timeit: your turn!"
   ]
  },
  {
   "cell_type": "code",
   "execution_count": null,
   "id": "032a91b3-426f-47f6-b1ff-cdbed2e7ad03",
   "metadata": {},
   "outputs": [],
   "source": [
    "# Create a list of integers (0-50) using list comprehension\n",
    "nums_list_comp = [num for num in range(51)]\n",
    "print(nums_list_comp)\n",
    "\n",
    "# Create a list of integers (0-50) by unpacking range\n",
    "nums_unpack = [*range(51)]\n",
    "print(nums_unpack)"
   ]
  },
  {
   "cell_type": "code",
   "execution_count": 8,
   "id": "2a2fd822-8594-4403-83cd-b8664cacd994",
   "metadata": {},
   "outputs": [
    {
     "name": "stdout",
     "output_type": "stream",
     "text": [
      "1.47 µs ± 22.1 ns per loop (mean ± std. dev. of 7 runs, 1000000 loops each)\n"
     ]
    }
   ],
   "source": [
    "%timeit [num for num in range(51)]"
   ]
  },
  {
   "cell_type": "code",
   "execution_count": 9,
   "id": "34bce6a3-f2cc-408b-ab67-751ab04b2bbe",
   "metadata": {},
   "outputs": [
    {
     "name": "stdout",
     "output_type": "stream",
     "text": [
      "473 ns ± 10.4 ns per loop (mean ± std. dev. of 7 runs, 1000000 loops each)\n"
     ]
    }
   ],
   "source": [
    "%timeit [*range(51)]"
   ]
  },
  {
   "cell_type": "markdown",
   "id": "6c82b97a-b208-48ec-ad6a-828535cfb71d",
   "metadata": {},
   "source": [
    "Tardó menos el unpacking (ojo con las unidades, está en nanosegundos y list comp está en micro)."
   ]
  },
  {
   "cell_type": "markdown",
   "id": "2f000cd3-a474-413f-b9da-6c56bcd3401e",
   "metadata": {},
   "source": [
    "## Using %timeit: specifying number of runs and loops"
   ]
  },
  {
   "cell_type": "code",
   "execution_count": 10,
   "id": "9bedbd1d-68a8-4663-908d-35f4bd8bbcb0",
   "metadata": {},
   "outputs": [
    {
     "name": "stdout",
     "output_type": "stream",
     "text": [
      "188 ns ± 16.1 ns per loop (mean ± std. dev. of 5 runs, 25 loops each)\n"
     ]
    }
   ],
   "source": [
    "n = [1,4,5, 5, 4]\n",
    "\n",
    "%timeit -r5 -n25 set(n)"
   ]
  },
  {
   "cell_type": "markdown",
   "id": "f0ed0278-9cec-449f-97b6-a7278babd67c",
   "metadata": {},
   "source": [
    "## Using %timeit: formal name or literal syntax"
   ]
  },
  {
   "cell_type": "code",
   "execution_count": 11,
   "id": "7a78efa1-2a0a-47c1-aeeb-4a0c062f622f",
   "metadata": {},
   "outputs": [
    {
     "name": "stdout",
     "output_type": "stream",
     "text": [
      "68.7 ns ± 1.93 ns per loop (mean ± std. dev. of 7 runs, 10000000 loops each)\n"
     ]
    }
   ],
   "source": [
    "%timeit list()"
   ]
  },
  {
   "cell_type": "code",
   "execution_count": 12,
   "id": "337af518-a2e0-4a81-98ce-398f6343154d",
   "metadata": {},
   "outputs": [
    {
     "name": "stdout",
     "output_type": "stream",
     "text": [
      "19.9 ns ± 0.587 ns per loop (mean ± std. dev. of 7 runs, 10000000 loops each)\n"
     ]
    }
   ],
   "source": [
    "%timeit []"
   ]
  },
  {
   "cell_type": "markdown",
   "id": "e0a0a1ea-0c59-4c0e-b950-3b941a8ca8f5",
   "metadata": {},
   "source": [
    "Es más rápido crearla con literal syntax."
   ]
  },
  {
   "cell_type": "markdown",
   "id": "2e6d94ef-1952-4ec7-be2f-c9f0c7775be3",
   "metadata": {},
   "source": [
    "## Using cell magic mode (%%timeit)"
   ]
  },
  {
   "cell_type": "code",
   "execution_count": 13,
   "id": "6c4b3b87-34ef-460e-9f5c-2ee38d459627",
   "metadata": {},
   "outputs": [],
   "source": [
    "wts = [4.5, 63.6, 88.3]"
   ]
  },
  {
   "cell_type": "code",
   "execution_count": 14,
   "id": "9b1b7a5d-dd41-4068-9fb0-d94189ed5b39",
   "metadata": {},
   "outputs": [
    {
     "name": "stdout",
     "output_type": "stream",
     "text": [
      "238 ns ± 10.9 ns per loop (mean ± std. dev. of 7 runs, 1000000 loops each)\n"
     ]
    }
   ],
   "source": [
    "%%timeit\n",
    "hero_wts_lbs = []\n",
    "for wt in wts:\n",
    "    hero_wts_lbs.append(wt * 2.20462)"
   ]
  },
  {
   "cell_type": "code",
   "execution_count": 15,
   "id": "a3bef774-201b-46ff-92a1-effc8fe63f10",
   "metadata": {},
   "outputs": [
    {
     "name": "stdout",
     "output_type": "stream",
     "text": [
      "1.33 µs ± 65.6 ns per loop (mean ± std. dev. of 7 runs, 1000000 loops each)\n"
     ]
    }
   ],
   "source": [
    "%%timeit\n",
    "wts_np = np.array(wts)\n",
    "hero_wts_lbs_np = wts_np * 2.20462"
   ]
  },
  {
   "cell_type": "markdown",
   "id": "af52b0c1-94d0-4ca7-8318-3c60f9fd7c46",
   "metadata": {},
   "source": [
    "## Code profiling"
   ]
  },
  {
   "cell_type": "markdown",
   "id": "177c62c7-5cdd-48d0-95b9-225889257f98",
   "metadata": {},
   "source": [
    "Code profiling is a technique used to describe how long, and how often, various parts of a program are executed. The beauty of a code profiler is its ability to gather summary statistics on individual pieces of our code without using magic commands like %timeit.\n",
    "\n",
    "Si tengo una función y uso %timeit voy a poder ver solo el tiempo total de ejecución, pero no voy a poder saber el tiempo de ejecución por línea dentro de la función."
   ]
  },
  {
   "cell_type": "code",
   "execution_count": 16,
   "id": "ee77670f-1b94-41cc-b854-a9274c05289e",
   "metadata": {},
   "outputs": [],
   "source": [
    "heroes = ['Batman', 'Superman']\n",
    "hts = np.array([180, 190])\n",
    "wts = np.array([100, 203])\n",
    "\n",
    "def convert_units(heroes, heights, weights):\n",
    "    new_hts = [ht * 0.39370 for ht in hts]\n",
    "    new_wts = [wt * 2.20462 for wt in wts]\n",
    "    \n",
    "    hero_data = {}\n",
    "    \n",
    "    for i, hero in enumerate(heroes):\n",
    "        hero_data[hero] = (new_hts[i], new_wts[i])\n",
    "        \n",
    "    return hero_data"
   ]
  },
  {
   "cell_type": "code",
   "execution_count": 18,
   "id": "7064a8e5-9731-4668-bddb-769fd801ff40",
   "metadata": {},
   "outputs": [
    {
     "name": "stdout",
     "output_type": "stream",
     "text": [
      "9.54 µs ± 146 ns per loop (mean ± std. dev. of 7 runs, 100000 loops each)\n"
     ]
    }
   ],
   "source": [
    "%timeit convert_units(heroes, hts, wts)"
   ]
  },
  {
   "cell_type": "markdown",
   "id": "0373c9ad-bc30-47a4-ada4-334afbf0f890",
   "metadata": {},
   "source": [
    "Para ver línea por línea sin hacerlo manualmente lo puedo hacer con el paquete line_profiler.\n",
    "\n",
    "Uso %lprun -f {nombre de función} {llamada a la función}. -f es para indicar que queremos hacer profile de una función."
   ]
  },
  {
   "cell_type": "code",
   "execution_count": 23,
   "id": "cea10fe5-8a90-4df2-bbfa-a981cd03f2d7",
   "metadata": {},
   "outputs": [
    {
     "name": "stdout",
     "output_type": "stream",
     "text": [
      "The line_profiler extension is already loaded. To reload it, use:\n",
      "  %reload_ext line_profiler\n"
     ]
    },
    {
     "data": {
      "text/plain": [
       "Timer unit: 1e-06 s\n",
       "\n",
       "Total time: 0.00015 s\n",
       "File: <ipython-input-16-f2cc73ec1ef9>\n",
       "Function: convert_units at line 5\n",
       "\n",
       "Line #      Hits         Time  Per Hit   % Time  Line Contents\n",
       "==============================================================\n",
       "     5                                           def convert_units(heroes, heights, weights):\n",
       "     6         1        134.0    134.0     89.3      new_hts = [ht * 0.39370 for ht in hts]\n",
       "     7         1         10.0     10.0      6.7      new_wts = [wt * 2.20462 for wt in wts]\n",
       "     8                                               \n",
       "     9         1          0.0      0.0      0.0      hero_data = {}\n",
       "    10                                               \n",
       "    11         3          4.0      1.3      2.7      for i, hero in enumerate(heroes):\n",
       "    12         2          1.0      0.5      0.7          hero_data[hero] = (new_hts[i], new_wts[i])\n",
       "    13                                                   \n",
       "    14         1          1.0      1.0      0.7      return hero_data"
      ]
     },
     "metadata": {},
     "output_type": "display_data"
    }
   ],
   "source": [
    "%load_ext line_profiler \n",
    "##no se bien que hace, carga una extension pero no se que diferencia hay con hacer un import\n",
    "\n",
    "%lprun -f convert_units convert_units(heroes, hts, wts)"
   ]
  },
  {
   "cell_type": "markdown",
   "id": "a83a525c-2049-4d30-9430-e9ff8e479d51",
   "metadata": {},
   "source": [
    "Hits dice la cantidad de veces que se ejecutó.\n",
    "Time el tiempo total. Per hit el tiempo por vez."
   ]
  },
  {
   "cell_type": "markdown",
   "id": "5dad833a-b827-4a33-bdc4-fca5a6f081b1",
   "metadata": {},
   "source": [
    "## Using %lprun: fix the bottleneck"
   ]
  },
  {
   "cell_type": "code",
   "execution_count": 24,
   "id": "001abebe-9701-430a-bea4-c7a7865e9fd8",
   "metadata": {},
   "outputs": [],
   "source": [
    "def convert_units_broadcast(heroes, heights, weights):\n",
    "\n",
    "    # Array broadcasting instead of list comprehension\n",
    "    new_hts = heights * 0.39370\n",
    "    new_wts = weights * 2.20462\n",
    "\n",
    "    hero_data = {}\n",
    "\n",
    "    for i,hero in enumerate(heroes):\n",
    "        hero_data[hero] = (new_hts[i], new_wts[i])\n",
    "\n",
    "    return hero_data"
   ]
  },
  {
   "cell_type": "code",
   "execution_count": 25,
   "id": "a196e318-33ea-4570-b331-232be370cc26",
   "metadata": {},
   "outputs": [
    {
     "data": {
      "text/plain": [
       "Timer unit: 1e-06 s\n",
       "\n",
       "Total time: 7.5e-05 s\n",
       "File: <ipython-input-24-097b3089decf>\n",
       "Function: convert_units_broadcast at line 1\n",
       "\n",
       "Line #      Hits         Time  Per Hit   % Time  Line Contents\n",
       "==============================================================\n",
       "     1                                           def convert_units_broadcast(heroes, heights, weights):\n",
       "     2                                           \n",
       "     3                                               # Array broadcasting instead of list comprehension\n",
       "     4         1         59.0     59.0     78.7      new_hts = heights * 0.39370\n",
       "     5         1          8.0      8.0     10.7      new_wts = weights * 2.20462\n",
       "     6                                           \n",
       "     7         1          0.0      0.0      0.0      hero_data = {}\n",
       "     8                                           \n",
       "     9         3          3.0      1.0      4.0      for i,hero in enumerate(heroes):\n",
       "    10         2          5.0      2.5      6.7          hero_data[hero] = (new_hts[i], new_wts[i])\n",
       "    11                                           \n",
       "    12         1          0.0      0.0      0.0      return hero_data"
      ]
     },
     "metadata": {},
     "output_type": "display_data"
    }
   ],
   "source": [
    "%lprun -f convert_units_broadcast convert_units_broadcast(heroes, hts, wts)"
   ]
  },
  {
   "cell_type": "markdown",
   "id": "6f303fd5-5915-45ce-82cd-ac6fc2fef795",
   "metadata": {},
   "source": [
    "## Code profiling for memory usage\n",
    "\n",
    "Forma fácil de ver el tamaño en bytes de algo: sys.getsizeof, pero solo nos da el tamaño de un objeto individual."
   ]
  },
  {
   "cell_type": "code",
   "execution_count": 27,
   "id": "0e9bb94b-8677-4473-a491-740c335f46ec",
   "metadata": {},
   "outputs": [
    {
     "data": {
      "text/plain": [
       "9104"
      ]
     },
     "execution_count": 27,
     "metadata": {},
     "output_type": "execute_result"
    }
   ],
   "source": [
    "import sys\n",
    "\n",
    "nums = [*range(1000)]\n",
    "sys.getsizeof(nums)"
   ]
  },
  {
   "cell_type": "markdown",
   "id": "a9a8f67f-841d-4e50-844b-f5c07723e1d3",
   "metadata": {},
   "source": [
    "Para hacerlo por línea: paquete memory_profiler.\n",
    "%mprun pero tiene que estar en un archivo."
   ]
  },
  {
   "cell_type": "code",
   "execution_count": 34,
   "id": "56faa61d-bbc3-48d9-9faf-3f7dbec8e7ef",
   "metadata": {},
   "outputs": [
    {
     "name": "stdout",
     "output_type": "stream",
     "text": [
      "The memory_profiler extension is already loaded. To reload it, use:\n",
      "  %reload_ext memory_profiler\n"
     ]
    },
    {
     "ename": "ModuleNotFoundError",
     "evalue": "No module named 'convert_units.py'; 'convert_units' is not a package",
     "output_type": "error",
     "traceback": [
      "\u001b[0;31m---------------------------------------------------------------------------\u001b[0m",
      "\u001b[0;31mModuleNotFoundError\u001b[0m                       Traceback (most recent call last)",
      "\u001b[0;32m<ipython-input-34-2673534730a7>\u001b[0m in \u001b[0;36m<module>\u001b[0;34m\u001b[0m\n\u001b[1;32m      1\u001b[0m \u001b[0mget_ipython\u001b[0m\u001b[0;34m(\u001b[0m\u001b[0;34m)\u001b[0m\u001b[0;34m.\u001b[0m\u001b[0mrun_line_magic\u001b[0m\u001b[0;34m(\u001b[0m\u001b[0;34m'load_ext'\u001b[0m\u001b[0;34m,\u001b[0m \u001b[0;34m'memory_profiler'\u001b[0m\u001b[0;34m)\u001b[0m\u001b[0;34m\u001b[0m\u001b[0;34m\u001b[0m\u001b[0m\n\u001b[0;32m----> 2\u001b[0;31m \u001b[0;32mfrom\u001b[0m \u001b[0mconvert_units\u001b[0m\u001b[0;34m.\u001b[0m\u001b[0mpy\u001b[0m \u001b[0;32mimport\u001b[0m \u001b[0mconvert_units\u001b[0m\u001b[0;34m\u001b[0m\u001b[0;34m\u001b[0m\u001b[0m\n\u001b[0m\u001b[1;32m      3\u001b[0m \u001b[0mget_ipython\u001b[0m\u001b[0;34m(\u001b[0m\u001b[0;34m)\u001b[0m\u001b[0;34m.\u001b[0m\u001b[0mrun_line_magic\u001b[0m\u001b[0;34m(\u001b[0m\u001b[0;34m'mprun'\u001b[0m\u001b[0;34m,\u001b[0m \u001b[0;34m'-f convert_units convert_units(heroes, hts, wts) ## no anda'\u001b[0m\u001b[0;34m)\u001b[0m\u001b[0;34m\u001b[0m\u001b[0;34m\u001b[0m\u001b[0m\n",
      "\u001b[0;31mModuleNotFoundError\u001b[0m: No module named 'convert_units.py'; 'convert_units' is not a package"
     ]
    }
   ],
   "source": [
    "%load_ext memory_profiler\n",
    "from convert_units.py import convert_units\n",
    "%mprun -f convert_units convert_units(heroes, hts, wts) ## no anda"
   ]
  },
  {
   "cell_type": "code",
   "execution_count": null,
   "id": "509eca28-b61d-467a-9314-d377b8bf6736",
   "metadata": {},
   "outputs": [],
   "source": []
  },
  {
   "cell_type": "code",
   "execution_count": null,
   "id": "d84fc590-a84a-45a1-88c9-3239e887b55d",
   "metadata": {},
   "outputs": [],
   "source": []
  }
 ],
 "metadata": {
  "kernelspec": {
   "display_name": "Python 3",
   "language": "python",
   "name": "python3"
  },
  "language_info": {
   "codemirror_mode": {
    "name": "ipython",
    "version": 3
   },
   "file_extension": ".py",
   "mimetype": "text/x-python",
   "name": "python",
   "nbconvert_exporter": "python",
   "pygments_lexer": "ipython3",
   "version": "3.8.8"
  }
 },
 "nbformat": 4,
 "nbformat_minor": 5
}
